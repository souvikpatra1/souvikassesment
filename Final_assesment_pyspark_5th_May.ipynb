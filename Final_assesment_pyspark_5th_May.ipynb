{
 "cells": [
  {
   "cell_type": "code",
   "execution_count": 61,
   "id": "f0bd1e75",
   "metadata": {},
   "outputs": [],
   "source": [
    "from pyspark.sql.session import SparkSession"
   ]
  },
  {
   "cell_type": "code",
   "execution_count": 62,
   "id": "b16d74c6",
   "metadata": {},
   "outputs": [],
   "source": [
    "spark = SparkSession.builder.appName(\"Python spark assesment\").config(\"spark.driver.memory\", \"40g\").getOrCreate()"
   ]
  },
  {
   "cell_type": "code",
   "execution_count": 63,
   "id": "2a4c85bf",
   "metadata": {},
   "outputs": [
    {
     "data": {
      "text/html": [
       "\n",
       "            <div>\n",
       "                <p><b>SparkSession - in-memory</b></p>\n",
       "                \n",
       "        <div>\n",
       "            <p><b>SparkContext</b></p>\n",
       "\n",
       "            <p><a href=\"http://172.16.2.6:4040\">Spark UI</a></p>\n",
       "\n",
       "            <dl>\n",
       "              <dt>Version</dt>\n",
       "                <dd><code>v3.1.2</code></dd>\n",
       "              <dt>Master</dt>\n",
       "                <dd><code>local[*]</code></dd>\n",
       "              <dt>AppName</dt>\n",
       "                <dd><code>Python spark assesment</code></dd>\n",
       "            </dl>\n",
       "        </div>\n",
       "        \n",
       "            </div>\n",
       "        "
      ],
      "text/plain": [
       "<pyspark.sql.session.SparkSession at 0x7f9f893e8580>"
      ]
     },
     "execution_count": 63,
     "metadata": {},
     "output_type": "execute_result"
    }
   ],
   "source": [
    "spark"
   ]
  },
  {
   "cell_type": "code",
   "execution_count": 64,
   "id": "44f28541",
   "metadata": {},
   "outputs": [
    {
     "name": "stderr",
     "output_type": "stream",
     "text": [
      "                                                                                \r"
     ]
    }
   ],
   "source": [
    "#Read all json files\n",
    "df = spark.read.json(\"/Users/souvikpatra/Downloads/user.json\")\n",
    "df1 =spark.read.json(\"/Users/souvikpatra/Downloads/review.json\")\n",
    "df2=spark.read.json(\"/Users/souvikpatra/Downloads/yelp_academic_dataset_business 2.json\")"
   ]
  },
  {
   "cell_type": "code",
   "execution_count": 153,
   "id": "6e466643",
   "metadata": {},
   "outputs": [
    {
     "ename": "SyntaxError",
     "evalue": "invalid syntax (4290689291.py, line 1)",
     "output_type": "error",
     "traceback": [
      "\u001b[0;36m  File \u001b[0;32m\"/var/folders/l1/fhcgynzx6993vk1k55vq6fw40000gp/T/ipykernel_7505/4290689291.py\"\u001b[0;36m, line \u001b[0;32m1\u001b[0m\n\u001b[0;31m    Print schema of user table\u001b[0m\n\u001b[0m          ^\u001b[0m\n\u001b[0;31mSyntaxError\u001b[0m\u001b[0;31m:\u001b[0m invalid syntax\n"
     ]
    }
   ],
   "source": []
  },
  {
   "cell_type": "code",
   "execution_count": 65,
   "id": "06ff613d",
   "metadata": {},
   "outputs": [
    {
     "name": "stdout",
     "output_type": "stream",
     "text": [
      "+--------------------+-------------+---------------+---------------+----------------+--------------+---------------+---------------+---------------+-----------------+----------------+------------------+-----------------+----+--------------------+----+--------------------+-----+--------+------------+------+--------------------+-------------------+\n",
      "|     _corrupt_record|average_stars|compliment_cool|compliment_cute|compliment_funny|compliment_hot|compliment_list|compliment_more|compliment_note|compliment_photos|compliment_plain|compliment_profile|compliment_writer|cool|               elite|fans|             friends|funny|    name|review_count|useful|             user_id|      yelping_since|\n",
      "+--------------------+-------------+---------------+---------------+----------------+--------------+---------------+---------------+---------------+-----------------+----------------+------------------+-----------------+----+--------------------+----+--------------------+-----+--------+------------+------+--------------------+-------------------+\n",
      "|{\"user_id\":\"qVc8O...|         null|           null|           null|            null|          null|           null|           null|           null|             null|            null|              null|             null|null|                null|null|                null| null|    null|        null|  null|                null|               null|\n",
      "|V--m9iBNZEPRw, bY...|         null|           null|           null|            null|          null|           null|           null|           null|             null|            null|              null|             null|null|                null|null|                null| null|    null|        null|  null|                null|               null|\n",
      "|yv60ny6vAK6qDzzsK...|         null|           null|           null|            null|          null|           null|           null|           null|             null|            null|              null|             null|null|                null|null|                null| null|    null|        null|  null|                null|               null|\n",
      "|HS3VWbg, Zemx0K0h...|         null|           null|           null|            null|          null|           null|           null|           null|             null|            null|              null|             null|null|                null|null|                null| null|    null|        null|  null|                null|               null|\n",
      "|I4YfZ5LEMURAE3fQ,...|         null|           null|           null|            null|          null|           null|           null|           null|             null|            null|              null|             null|null|                null|null|                null| null|    null|        null|  null|                null|               null|\n",
      "|g, RDDAutSkzBrkzh...|         null|           null|           null|            null|          null|           null|           null|           null|             null|            null|              null|             null|null|                null|null|                null| null|    null|        null|  null|                null|               null|\n",
      "|{\"user_id\":\"j14Wg...|         null|           null|           null|            null|          null|           null|           null|           null|             null|            null|              null|             null|null|                null|null|                null| null|    null|        null|  null|                null|               null|\n",
      "|wxtXsQ, 0zDHiDbj7...|         null|           null|           null|            null|          null|           null|           null|           null|             null|            null|              null|             null|null|                null|null|                null| null|    null|        null|  null|                null|               null|\n",
      "|                null|         3.32|            119|             17|             119|            89|              3|             13|             66|               18|              96|                10|               35|1003|2009,2010,2011,20...|  52|LuO3Bn4f3rlhyHIaN...| 1010|   Steph|         665|  2086|2WnXYQFK0hXEoTxPt...|2008-07-25 10:41:00|\n",
      "|                null|         4.27|             26|              6|              26|            24|              2|              4|             12|                9|              16|                 1|               10| 299|      2009,2010,2011|  28|enx1vVPnfdNUdPho6...|  330|    Gwen|         224|   512|SZDeASXq7o05mMNLs...|2005-11-29 04:38:33|\n",
      "|                null|         3.54|              0|              0|               0|             1|              0|              1|              1|                0|               1|                 0|                0|   7|                    |   1|PBK4q9KEEBHhFvSXC...|   15|   Karen|          79|    29|hA5lMy-EnncsH4JoR...|2007-01-05 19:40:59|\n",
      "|{\"user_id\":\"q_QQ5...|         null|           null|           null|            null|          null|           null|           null|           null|             null|            null|              null|             null|null|                null|null|                null| null|    null|        null|  null|                null|               null|\n",
      "|xQy4cA, vrh6CT90h...|         null|           null|           null|            null|          null|           null|           null|           null|             null|            null|              null|             null|null|                null|null|                null| null|    null|        null|  null|                null|               null|\n",
      "|tV5PdhnZanz39vw, ...|         null|           null|           null|            null|          null|           null|           null|           null|             null|            null|              null|             null|null|                null|null|                null| null|    null|        null|  null|                null|               null|\n",
      "|                null|         2.75|              0|              0|               0|             0|              0|              0|              0|                0|               1|                 0|                0|   0|                    |   1|HDAQ74AEznP-YsMk1...|    1|     Rob|          12|     6|cxuxXkcihfCbqt5By...|2009-02-24 03:09:06|\n",
      "|                null|         3.73|             12|              0|              12|             4|              0|              7|              8|                0|               6|                 2|                5| 143|                    |  23|y2GyxJF5VQWohxgw_...|  102|    Mike|         358|   399|E9kcWJdJUHuTKfQur...|2008-12-11 22:11:56|\n",
      "|                null|         4.04|              5|              3|               5|             2|              0|              0|              3|                1|               4|                 0|                3|  46|                    |   7|tOQDlz36rI__SOsbL...|   40|Rachelle|          40|   109|lO1iq-f75hnPNZkTy...|2008-12-29 22:40:56|\n",
      "|                null|          3.4|              3|              0|               3|             0|              0|              0|              1|                0|               6|                 0|                0|  23|                    |   4|gy5fWeSv3Gamuq9Ox...|   20|    John|         109|   154|AUi8MPWJ0mLkMfwbu...|2010-01-07 18:32:04|\n",
      "|                null|          4.0|              0|              0|               0|             0|              0|              0|              0|                0|               0|                 0|                0|   1|                    |   1|Vq4Pc81l6MWTnc-h4...|    0|   Chris|           4|     1|iYzhPPqnrjJkg1JHZ...|2010-11-03 18:59:20|\n",
      "|                null|         3.89|             36|              3|              36|            23|              5|              9|             31|                7|              41|                 1|               24| 573| 2009,2010,2011,2012|  31|6tbXpUIU6upoeqWND...|  487|    Ryan|         535|  1130|xoZvMJPDW6Q9pDAXI...|2009-05-27 06:12:10|\n",
      "+--------------------+-------------+---------------+---------------+----------------+--------------+---------------+---------------+---------------+-----------------+----------------+------------------+-----------------+----+--------------------+----+--------------------+-----+--------+------------+------+--------------------+-------------------+\n",
      "only showing top 20 rows\n",
      "\n",
      "root\n",
      " |-- _corrupt_record: string (nullable = true)\n",
      " |-- average_stars: double (nullable = true)\n",
      " |-- compliment_cool: long (nullable = true)\n",
      " |-- compliment_cute: long (nullable = true)\n",
      " |-- compliment_funny: long (nullable = true)\n",
      " |-- compliment_hot: long (nullable = true)\n",
      " |-- compliment_list: long (nullable = true)\n",
      " |-- compliment_more: long (nullable = true)\n",
      " |-- compliment_note: long (nullable = true)\n",
      " |-- compliment_photos: long (nullable = true)\n",
      " |-- compliment_plain: long (nullable = true)\n",
      " |-- compliment_profile: long (nullable = true)\n",
      " |-- compliment_writer: long (nullable = true)\n",
      " |-- cool: long (nullable = true)\n",
      " |-- elite: string (nullable = true)\n",
      " |-- fans: long (nullable = true)\n",
      " |-- friends: string (nullable = true)\n",
      " |-- funny: long (nullable = true)\n",
      " |-- name: string (nullable = true)\n",
      " |-- review_count: long (nullable = true)\n",
      " |-- useful: long (nullable = true)\n",
      " |-- user_id: string (nullable = true)\n",
      " |-- yelping_since: string (nullable = true)\n",
      "\n"
     ]
    }
   ],
   "source": [
    "#Printing schema\n",
    "df.show()\n",
    "df.printSchema()\n",
    "\n"
   ]
  },
  {
   "cell_type": "code",
   "execution_count": 60,
   "id": "102976ab",
   "metadata": {},
   "outputs": [
    {
     "data": {
      "text/plain": [
       "DataFrame[_corrupt_record: string, average_stars: double, compliment_cool: bigint, compliment_cute: bigint, compliment_funny: bigint, compliment_hot: bigint, compliment_list: bigint, compliment_more: bigint, compliment_note: bigint, compliment_photos: bigint, compliment_plain: bigint, compliment_profile: bigint, compliment_writer: bigint, cool: bigint, elite: string, fans: bigint, friends: string, funny: bigint, name: string, review_count: bigint, useful: bigint, user_id: string, yelping_since: string]"
      ]
     },
     "metadata": {},
     "output_type": "display_data"
    },
    {
     "name": "stderr",
     "output_type": "stream",
     "text": [
      "22/05/04 20:39:35 WARN HeartbeatReceiver: Removing executor driver with no recent heartbeats: 962041 ms exceeds timeout 120000 ms\n",
      "22/05/04 20:39:35 WARN SparkContext: Killing executors is not supported by current scheduler.\n"
     ]
    }
   ],
   "source": [
    "display(df)"
   ]
  },
  {
   "cell_type": "code",
   "execution_count": 66,
   "id": "c45c0804",
   "metadata": {},
   "outputs": [
    {
     "name": "stdout",
     "output_type": "stream",
     "text": [
      "+--------------------+----+-------------------+-----+--------------------+-----+--------------------+------+--------------------+\n",
      "|         business_id|cool|               date|funny|           review_id|stars|                text|useful|             user_id|\n",
      "+--------------------+----+-------------------+-----+--------------------+-----+--------------------+------+--------------------+\n",
      "|XQfwVwDr-v0ZS3_Cb...|   0|2018-07-07 22:09:11|    0|KU_O5udG6zpxOg-Vc...|  3.0|If you decide to ...|     0|mh_-eMZ6K5RLWhZyI...|\n",
      "|7ATYjTIgM3jUlt4UM...|   1|2012-01-03 15:28:18|    0|BiTunyQ73aT9WBnpR...|  5.0|I've taken a lot ...|     1|OyoGAe7OKpv6SyGZT...|\n",
      "|YjUWPpI6HXG530lwP...|   0|2014-02-05 20:30:30|    0|saUsX_uimxRlCVr67...|  3.0|Family diner. Had...|     0|8g_iMtfSiwikVnbP2...|\n",
      "|kxX2SOes4o-D3ZQBk...|   1|2015-01-04 00:01:03|    0|AqPFMleE6RsU23_au...|  5.0|Wow!  Yummy, diff...|     1|_7bHUi9Uuf5__HHc_...|\n",
      "|e4Vwtrqf-wpJfwesg...|   1|2017-01-14 20:54:15|    0|Sx8TMOWLNuJBWer-0...|  4.0|Cute interior and...|     1|bcjbaE6dDog4jkNY9...|\n",
      "|04UD14gamNjLY0IDY...|   1|2015-09-23 23:10:31|    2|JrIxlS1TzJ-iCu79u...|  1.0|I am a long term ...|     1|eUta8W_HdHMXPzLBB...|\n",
      "|gmjsEdUsKpj9Xxu6p...|   0|2015-01-03 23:21:18|    2|6AxgBCNX_PNTOxmbR...|  5.0|Loved this tour! ...|     0|r3zeYsv1XFBRA4dJp...|\n",
      "|LHSTtnW3YHCeUkRDG...|   0|2015-08-07 02:29:16|    0|_ZeMknuYdlQcUqng_...|  5.0|Amazingly amazing...|     2|yfFzsLmaWF2d4Sr0U...|\n",
      "|B5XSoSG3SfvQGtKEG...|   0|2016-03-30 22:46:33|    1|ZKvDG2sBvHVdF5oBN...|  3.0|This easter inste...|     1|wSTuiTk-sKNdcFypr...|\n",
      "|gebiRewfieSdtt17P...|   0|2016-07-25 07:31:06|    0|pUycOfUwM8vqX7KjR...|  3.0|Had a party of 6 ...|     0|59MxRhNVhU9MYndMk...|\n",
      "|uMvVYRgGNXf5boolA...|   0|2015-06-21 14:48:06|    0|rGQRf8UafX7OTlMNN...|  5.0|My experience wit...|     2|1WHRWwQmZOZDAhp2Q...|\n",
      "|EQ-TZ2eeD_E0BHuvo...|   0|2015-08-19 14:31:45|    0|l3Wk_mvAog6XANIuG...|  4.0|Locals recommende...|     0|ZbqSHbgCjzVAqaa7N...|\n",
      "|lj-E32x9_FA7GmUrB...|   0|2014-06-27 22:44:01|    0|XW_LfMv0fV21l9c6x...|  4.0|Love going here f...|     0|9OAtfnWag-ajVxRbU...|\n",
      "|RZtGWDLCAtuipwaZ-...|   0|2009-10-14 19:57:14|    0|8JFGBuHMoiNDyfcxu...|  4.0|Good food--loved ...|     0|smOvOajNG0lS4Pq7d...|\n",
      "|otQS34_MymijPTdNB...|   0|2011-10-27 17:12:05|    2|UBp0zWyH60Hmw6Fsa...|  4.0|The bun makes the...|     0|4Uh27DgGzsp6PqrH9...|\n",
      "|BVndHaLihEYbr76Z0...|   0|2014-10-11 16:22:06|    0|OAhBYw8IQ6wlfw1ow...|  5.0|Great place for b...|     0|1C2lxzUo1Hyye4RFI...|\n",
      "|YtSqYv1Q_pOltsVPS...|   0|2013-06-24 11:21:25|    0|oyaMhzBSwfGgemSGu...|  5.0|Tremendous servic...|     0|Dd1jQj7S-BFGqRbAp...|\n",
      "|rBdG_23USc7DletfZ...|   0|2014-08-10 19:41:43|    0|LnGZB0fjfgeVDVz5I...|  4.0|The hubby and I h...|     1|j2wlzrntrbKwyOcOi...|\n",
      "|CLEWowfkj-wKYJlQD...|   1|2016-03-07 00:02:18|    0|u2vzZaOqJ2feRshaa...|  5.0|I go to blow bar ...|     2|NDZvyYHTUWWu-kqgQ...|\n",
      "|eFvzHawVJofxSnD7T...|   0|2014-11-12 15:30:27|    0|Xs8Z8lmKkosqW5mw_...|  5.0|My absolute favor...|     0|IQsF3Rc6IgCzjVV9D...|\n",
      "+--------------------+----+-------------------+-----+--------------------+-----+--------------------+------+--------------------+\n",
      "only showing top 20 rows\n",
      "\n",
      "root\n",
      " |-- business_id: string (nullable = true)\n",
      " |-- cool: long (nullable = true)\n",
      " |-- date: string (nullable = true)\n",
      " |-- funny: long (nullable = true)\n",
      " |-- review_id: string (nullable = true)\n",
      " |-- stars: double (nullable = true)\n",
      " |-- text: string (nullable = true)\n",
      " |-- useful: long (nullable = true)\n",
      " |-- user_id: string (nullable = true)\n",
      "\n"
     ]
    }
   ],
   "source": [
    "df1.show()\n",
    "df1.printSchema()"
   ]
  },
  {
   "cell_type": "code",
   "execution_count": 87,
   "id": "4a0643c7",
   "metadata": {},
   "outputs": [
    {
     "name": "stderr",
     "output_type": "stream",
     "text": [
      "                                                                                \r"
     ]
    },
    {
     "name": "stdout",
     "output_type": "stream",
     "text": [
      "+--------------------+--------------------+--------------------+--------------------+-------------+--------------------+-------+----------+------------+--------------------+-----------+------------+-----+-----+\n",
      "|             address|          attributes|         business_id|          categories|         city|               hours|is_open|  latitude|   longitude|                name|postal_code|review_count|stars|state|\n",
      "+--------------------+--------------------+--------------------+--------------------+-------------+--------------------+-------+----------+------------+--------------------+-----------+------------+-----+-----+\n",
      "|1616 Chapala St, ...|{null, null, null...|Pns2l4eNsfO8kk83d...|             Doctors|Santa Barbara|                null|      0|34.4266787|-119.7111968|Abby Rappoport, L...|      93101|           7|  5.0|   CA|\n",
      "|1616 Chapala St, ...|{null, null, null...|Pns2l4eNsfO8kk83d...| Traditional Chin...|Santa Barbara|                null|      0|34.4266787|-119.7111968|Abby Rappoport, L...|      93101|           7|  5.0|   CA|\n",
      "|1616 Chapala St, ...|{null, null, null...|Pns2l4eNsfO8kk83d...| Naturopathic/Hol...|Santa Barbara|                null|      0|34.4266787|-119.7111968|Abby Rappoport, L...|      93101|           7|  5.0|   CA|\n",
      "|1616 Chapala St, ...|{null, null, null...|Pns2l4eNsfO8kk83d...|         Acupuncture|Santa Barbara|                null|      0|34.4266787|-119.7111968|Abby Rappoport, L...|      93101|           7|  5.0|   CA|\n",
      "|1616 Chapala St, ...|{null, null, null...|Pns2l4eNsfO8kk83d...|    Health & Medical|Santa Barbara|                null|      0|34.4266787|-119.7111968|Abby Rappoport, L...|      93101|           7|  5.0|   CA|\n",
      "|1616 Chapala St, ...|{null, null, null...|Pns2l4eNsfO8kk83d...|       Nutritionists|Santa Barbara|                null|      0|34.4266787|-119.7111968|Abby Rappoport, L...|      93101|           7|  5.0|   CA|\n",
      "|87 Grasso Plaza S...|{null, null, null...|mpf3x-BjTdTEA3yCZ...|    Shipping Centers|       Affton|{8:0-18:30, 0:0-0...|      1| 38.551126|  -90.335695|       The UPS Store|      63123|          15|  3.0|   MO|\n",
      "|87 Grasso Plaza S...|{null, null, null...|mpf3x-BjTdTEA3yCZ...|      Local Services|       Affton|{8:0-18:30, 0:0-0...|      1| 38.551126|  -90.335695|       The UPS Store|      63123|          15|  3.0|   MO|\n",
      "|87 Grasso Plaza S...|{null, null, null...|mpf3x-BjTdTEA3yCZ...|            Notaries|       Affton|{8:0-18:30, 0:0-0...|      1| 38.551126|  -90.335695|       The UPS Store|      63123|          15|  3.0|   MO|\n",
      "|87 Grasso Plaza S...|{null, null, null...|mpf3x-BjTdTEA3yCZ...|     Mailbox Centers|       Affton|{8:0-18:30, 0:0-0...|      1| 38.551126|  -90.335695|       The UPS Store|      63123|          15|  3.0|   MO|\n",
      "|87 Grasso Plaza S...|{null, null, null...|mpf3x-BjTdTEA3yCZ...|   Printing Services|       Affton|{8:0-18:30, 0:0-0...|      1| 38.551126|  -90.335695|       The UPS Store|      63123|          15|  3.0|   MO|\n",
      "|5255 E Broadway Blvd|{null, null, null...|tUFrWirKiKi_TAnsV...|   Department Stores|       Tucson|{8:0-23:0, 8:0-22...|      0| 32.223236| -110.880452|              Target|      85711|          22|  3.5|   AZ|\n",
      "|5255 E Broadway Blvd|{null, null, null...|tUFrWirKiKi_TAnsV...|            Shopping|       Tucson|{8:0-23:0, 8:0-22...|      0| 32.223236| -110.880452|              Target|      85711|          22|  3.5|   AZ|\n",
      "|5255 E Broadway Blvd|{null, null, null...|tUFrWirKiKi_TAnsV...|             Fashion|       Tucson|{8:0-23:0, 8:0-22...|      0| 32.223236| -110.880452|              Target|      85711|          22|  3.5|   AZ|\n",
      "|5255 E Broadway Blvd|{null, null, null...|tUFrWirKiKi_TAnsV...|       Home & Garden|       Tucson|{8:0-23:0, 8:0-22...|      0| 32.223236| -110.880452|              Target|      85711|          22|  3.5|   AZ|\n",
      "|5255 E Broadway Blvd|{null, null, null...|tUFrWirKiKi_TAnsV...|         Electronics|       Tucson|{8:0-23:0, 8:0-22...|      0| 32.223236| -110.880452|              Target|      85711|          22|  3.5|   AZ|\n",
      "|5255 E Broadway Blvd|{null, null, null...|tUFrWirKiKi_TAnsV...|    Furniture Stores|       Tucson|{8:0-23:0, 8:0-22...|      0| 32.223236| -110.880452|              Target|      85711|          22|  3.5|   AZ|\n",
      "|         935 Race St|{null, null, u'no...|MTSW4McQd7CbVtyjq...|         Restaurants| Philadelphia|{7:0-21:0, 7:0-20...|      1|39.9555052| -75.1555641|  St Honore Pastries|      19107|          80|  4.0|   PA|\n",
      "|         935 Race St|{null, null, u'no...|MTSW4McQd7CbVtyjq...|                Food| Philadelphia|{7:0-21:0, 7:0-20...|      1|39.9555052| -75.1555641|  St Honore Pastries|      19107|          80|  4.0|   PA|\n",
      "|         935 Race St|{null, null, u'no...|MTSW4McQd7CbVtyjq...|          Bubble Tea| Philadelphia|{7:0-21:0, 7:0-20...|      1|39.9555052| -75.1555641|  St Honore Pastries|      19107|          80|  4.0|   PA|\n",
      "+--------------------+--------------------+--------------------+--------------------+-------------+--------------------+-------+----------+------------+--------------------+-----------+------------+-----+-----+\n",
      "only showing top 20 rows\n",
      "\n"
     ]
    }
   ],
   "source": [
    "df2=df2.withColumn(\"categories\",explode(split(\"categories\",\",\")))\n",
    "df2=df2.withColumn(\"attributes\",col(\"attributes\").cast(\"string\"))\n",
    "df2=df2.withColumn(\"hours\",col(\"hours\").cast(\"string\"))\n",
    "df2.coalesce(1).write.format(\"com.databricks.spark.csv\").option(\"header\",\"true\").save(\"business\")\n",
    "df2.write.option(\"header\",\"true\").csv(\"business4.csv\")\n",
    "df2.show()"
   ]
  },
  {
   "cell_type": "code",
   "execution_count": 88,
   "id": "3e7e2e8a",
   "metadata": {},
   "outputs": [
    {
     "name": "stdout",
     "output_type": "stream",
     "text": [
      "+--------------------+--------------------+--------------------+--------------------+-------------+--------------------+-------+----------+------------+--------------------+-----------+------------+-----+-----+\n",
      "|             address|          attributes|         business_id|          categories|         city|               hours|is_open|  latitude|   longitude|                name|postal_code|review_count|stars|state|\n",
      "+--------------------+--------------------+--------------------+--------------------+-------------+--------------------+-------+----------+------------+--------------------+-----------+------------+-----+-----+\n",
      "|1616 Chapala St, ...|{null, null, null...|Pns2l4eNsfO8kk83d...|             Doctors|Santa Barbara|                null|      0|34.4266787|-119.7111968|Abby Rappoport, L...|      93101|           7|  5.0|   CA|\n",
      "|1616 Chapala St, ...|{null, null, null...|Pns2l4eNsfO8kk83d...| Traditional Chin...|Santa Barbara|                null|      0|34.4266787|-119.7111968|Abby Rappoport, L...|      93101|           7|  5.0|   CA|\n",
      "|1616 Chapala St, ...|{null, null, null...|Pns2l4eNsfO8kk83d...| Naturopathic/Hol...|Santa Barbara|                null|      0|34.4266787|-119.7111968|Abby Rappoport, L...|      93101|           7|  5.0|   CA|\n",
      "|1616 Chapala St, ...|{null, null, null...|Pns2l4eNsfO8kk83d...|         Acupuncture|Santa Barbara|                null|      0|34.4266787|-119.7111968|Abby Rappoport, L...|      93101|           7|  5.0|   CA|\n",
      "|1616 Chapala St, ...|{null, null, null...|Pns2l4eNsfO8kk83d...|    Health & Medical|Santa Barbara|                null|      0|34.4266787|-119.7111968|Abby Rappoport, L...|      93101|           7|  5.0|   CA|\n",
      "|1616 Chapala St, ...|{null, null, null...|Pns2l4eNsfO8kk83d...|       Nutritionists|Santa Barbara|                null|      0|34.4266787|-119.7111968|Abby Rappoport, L...|      93101|           7|  5.0|   CA|\n",
      "|87 Grasso Plaza S...|{null, null, null...|mpf3x-BjTdTEA3yCZ...|    Shipping Centers|       Affton|{8:0-18:30, 0:0-0...|      1| 38.551126|  -90.335695|       The UPS Store|      63123|          15|  3.0|   MO|\n",
      "|87 Grasso Plaza S...|{null, null, null...|mpf3x-BjTdTEA3yCZ...|      Local Services|       Affton|{8:0-18:30, 0:0-0...|      1| 38.551126|  -90.335695|       The UPS Store|      63123|          15|  3.0|   MO|\n",
      "|87 Grasso Plaza S...|{null, null, null...|mpf3x-BjTdTEA3yCZ...|            Notaries|       Affton|{8:0-18:30, 0:0-0...|      1| 38.551126|  -90.335695|       The UPS Store|      63123|          15|  3.0|   MO|\n",
      "|87 Grasso Plaza S...|{null, null, null...|mpf3x-BjTdTEA3yCZ...|     Mailbox Centers|       Affton|{8:0-18:30, 0:0-0...|      1| 38.551126|  -90.335695|       The UPS Store|      63123|          15|  3.0|   MO|\n",
      "|87 Grasso Plaza S...|{null, null, null...|mpf3x-BjTdTEA3yCZ...|   Printing Services|       Affton|{8:0-18:30, 0:0-0...|      1| 38.551126|  -90.335695|       The UPS Store|      63123|          15|  3.0|   MO|\n",
      "|5255 E Broadway Blvd|{null, null, null...|tUFrWirKiKi_TAnsV...|   Department Stores|       Tucson|{8:0-23:0, 8:0-22...|      0| 32.223236| -110.880452|              Target|      85711|          22|  3.5|   AZ|\n",
      "|5255 E Broadway Blvd|{null, null, null...|tUFrWirKiKi_TAnsV...|            Shopping|       Tucson|{8:0-23:0, 8:0-22...|      0| 32.223236| -110.880452|              Target|      85711|          22|  3.5|   AZ|\n",
      "|5255 E Broadway Blvd|{null, null, null...|tUFrWirKiKi_TAnsV...|             Fashion|       Tucson|{8:0-23:0, 8:0-22...|      0| 32.223236| -110.880452|              Target|      85711|          22|  3.5|   AZ|\n",
      "|5255 E Broadway Blvd|{null, null, null...|tUFrWirKiKi_TAnsV...|       Home & Garden|       Tucson|{8:0-23:0, 8:0-22...|      0| 32.223236| -110.880452|              Target|      85711|          22|  3.5|   AZ|\n",
      "|5255 E Broadway Blvd|{null, null, null...|tUFrWirKiKi_TAnsV...|         Electronics|       Tucson|{8:0-23:0, 8:0-22...|      0| 32.223236| -110.880452|              Target|      85711|          22|  3.5|   AZ|\n",
      "|5255 E Broadway Blvd|{null, null, null...|tUFrWirKiKi_TAnsV...|    Furniture Stores|       Tucson|{8:0-23:0, 8:0-22...|      0| 32.223236| -110.880452|              Target|      85711|          22|  3.5|   AZ|\n",
      "|         935 Race St|{null, null, u'no...|MTSW4McQd7CbVtyjq...|         Restaurants| Philadelphia|{7:0-21:0, 7:0-20...|      1|39.9555052| -75.1555641|  St Honore Pastries|      19107|          80|  4.0|   PA|\n",
      "|         935 Race St|{null, null, u'no...|MTSW4McQd7CbVtyjq...|                Food| Philadelphia|{7:0-21:0, 7:0-20...|      1|39.9555052| -75.1555641|  St Honore Pastries|      19107|          80|  4.0|   PA|\n",
      "|         935 Race St|{null, null, u'no...|MTSW4McQd7CbVtyjq...|          Bubble Tea| Philadelphia|{7:0-21:0, 7:0-20...|      1|39.9555052| -75.1555641|  St Honore Pastries|      19107|          80|  4.0|   PA|\n",
      "+--------------------+--------------------+--------------------+--------------------+-------------+--------------------+-------+----------+------------+--------------------+-----------+------------+-----+-----+\n",
      "only showing top 20 rows\n",
      "\n",
      "root\n",
      " |-- address: string (nullable = true)\n",
      " |-- attributes: string (nullable = true)\n",
      " |-- business_id: string (nullable = true)\n",
      " |-- categories: string (nullable = true)\n",
      " |-- city: string (nullable = true)\n",
      " |-- hours: string (nullable = true)\n",
      " |-- is_open: long (nullable = true)\n",
      " |-- latitude: double (nullable = true)\n",
      " |-- longitude: double (nullable = true)\n",
      " |-- name: string (nullable = true)\n",
      " |-- postal_code: string (nullable = true)\n",
      " |-- review_count: long (nullable = true)\n",
      " |-- stars: double (nullable = true)\n",
      " |-- state: string (nullable = true)\n",
      "\n"
     ]
    }
   ],
   "source": [
    "df2.show()\n",
    "df2.printSchema()"
   ]
  },
  {
   "cell_type": "code",
   "execution_count": 79,
   "id": "708a0f55",
   "metadata": {},
   "outputs": [
    {
     "name": "stderr",
     "output_type": "stream",
     "text": [
      "                                                                                \r"
     ]
    },
    {
     "name": "stdout",
     "output_type": "stream",
     "text": [
      "+--------------------+----+-------------------+-----+--------------------+-----+--------------------+------+--------------------+\n",
      "|         business_id|cool|               date|funny|           review_id|stars|                text|useful|             user_id|\n",
      "+--------------------+----+-------------------+-----+--------------------+-----+--------------------+------+--------------------+\n",
      "|XQfwVwDr-v0ZS3_Cb...|   0|2018-07-07 22:09:11|    0|KU_O5udG6zpxOg-Vc...|  3.0|If you decide to ...|     0|mh_-eMZ6K5RLWhZyI...|\n",
      "|7ATYjTIgM3jUlt4UM...|   1|2012-01-03 15:28:18|    0|BiTunyQ73aT9WBnpR...|  5.0|I've taken a lot ...|     1|OyoGAe7OKpv6SyGZT...|\n",
      "|YjUWPpI6HXG530lwP...|   0|2014-02-05 20:30:30|    0|saUsX_uimxRlCVr67...|  3.0|Family diner. Had...|     0|8g_iMtfSiwikVnbP2...|\n",
      "|kxX2SOes4o-D3ZQBk...|   1|2015-01-04 00:01:03|    0|AqPFMleE6RsU23_au...|  5.0|Wow!  Yummy, diff...|     1|_7bHUi9Uuf5__HHc_...|\n",
      "|e4Vwtrqf-wpJfwesg...|   1|2017-01-14 20:54:15|    0|Sx8TMOWLNuJBWer-0...|  4.0|Cute interior and...|     1|bcjbaE6dDog4jkNY9...|\n",
      "|04UD14gamNjLY0IDY...|   1|2015-09-23 23:10:31|    2|JrIxlS1TzJ-iCu79u...|  1.0|I am a long term ...|     1|eUta8W_HdHMXPzLBB...|\n",
      "|gmjsEdUsKpj9Xxu6p...|   0|2015-01-03 23:21:18|    2|6AxgBCNX_PNTOxmbR...|  5.0|Loved this tour! ...|     0|r3zeYsv1XFBRA4dJp...|\n",
      "|LHSTtnW3YHCeUkRDG...|   0|2015-08-07 02:29:16|    0|_ZeMknuYdlQcUqng_...|  5.0|Amazingly amazing...|     2|yfFzsLmaWF2d4Sr0U...|\n",
      "|B5XSoSG3SfvQGtKEG...|   0|2016-03-30 22:46:33|    1|ZKvDG2sBvHVdF5oBN...|  3.0|This easter inste...|     1|wSTuiTk-sKNdcFypr...|\n",
      "|gebiRewfieSdtt17P...|   0|2016-07-25 07:31:06|    0|pUycOfUwM8vqX7KjR...|  3.0|Had a party of 6 ...|     0|59MxRhNVhU9MYndMk...|\n",
      "|uMvVYRgGNXf5boolA...|   0|2015-06-21 14:48:06|    0|rGQRf8UafX7OTlMNN...|  5.0|My experience wit...|     2|1WHRWwQmZOZDAhp2Q...|\n",
      "|EQ-TZ2eeD_E0BHuvo...|   0|2015-08-19 14:31:45|    0|l3Wk_mvAog6XANIuG...|  4.0|Locals recommende...|     0|ZbqSHbgCjzVAqaa7N...|\n",
      "|lj-E32x9_FA7GmUrB...|   0|2014-06-27 22:44:01|    0|XW_LfMv0fV21l9c6x...|  4.0|Love going here f...|     0|9OAtfnWag-ajVxRbU...|\n",
      "|RZtGWDLCAtuipwaZ-...|   0|2009-10-14 19:57:14|    0|8JFGBuHMoiNDyfcxu...|  4.0|Good food--loved ...|     0|smOvOajNG0lS4Pq7d...|\n",
      "|otQS34_MymijPTdNB...|   0|2011-10-27 17:12:05|    2|UBp0zWyH60Hmw6Fsa...|  4.0|The bun makes the...|     0|4Uh27DgGzsp6PqrH9...|\n",
      "|BVndHaLihEYbr76Z0...|   0|2014-10-11 16:22:06|    0|OAhBYw8IQ6wlfw1ow...|  5.0|Great place for b...|     0|1C2lxzUo1Hyye4RFI...|\n",
      "|YtSqYv1Q_pOltsVPS...|   0|2013-06-24 11:21:25|    0|oyaMhzBSwfGgemSGu...|  5.0|Tremendous servic...|     0|Dd1jQj7S-BFGqRbAp...|\n",
      "|rBdG_23USc7DletfZ...|   0|2014-08-10 19:41:43|    0|LnGZB0fjfgeVDVz5I...|  4.0|The hubby and I h...|     1|j2wlzrntrbKwyOcOi...|\n",
      "|CLEWowfkj-wKYJlQD...|   1|2016-03-07 00:02:18|    0|u2vzZaOqJ2feRshaa...|  5.0|I go to blow bar ...|     2|NDZvyYHTUWWu-kqgQ...|\n",
      "|eFvzHawVJofxSnD7T...|   0|2014-11-12 15:30:27|    0|Xs8Z8lmKkosqW5mw_...|  5.0|My absolute favor...|     0|IQsF3Rc6IgCzjVV9D...|\n",
      "+--------------------+----+-------------------+-----+--------------------+-----+--------------------+------+--------------------+\n",
      "only showing top 20 rows\n",
      "\n"
     ]
    }
   ],
   "source": [
    "\n",
    "df1.write.option(\"header\",\"true\").csv(\"review5.csv\")\n",
    "df1.show()"
   ]
  },
  {
   "cell_type": "code",
   "execution_count": 78,
   "id": "99d15370",
   "metadata": {},
   "outputs": [
    {
     "ename": "NameError",
     "evalue": "name 'StructType' is not defined",
     "output_type": "error",
     "traceback": [
      "\u001b[0;31m---------------------------------------------------------------------------\u001b[0m",
      "\u001b[0;31mNameError\u001b[0m                                 Traceback (most recent call last)",
      "\u001b[0;32m/var/folders/l1/fhcgynzx6993vk1k55vq6fw40000gp/T/ipykernel_7505/3622921762.py\u001b[0m in \u001b[0;36m<module>\u001b[0;34m\u001b[0m\n\u001b[0;32m----> 1\u001b[0;31m \u001b[0mpartialSchema\u001b[0m \u001b[0;34m=\u001b[0m \u001b[0mStructType\u001b[0m\u001b[0;34m(\u001b[0m\u001b[0;34m[\u001b[0m\u001b[0mStructField\u001b[0m\u001b[0;34m(\u001b[0m\u001b[0;34m\" date\"\u001b[0m\u001b[0;34m,\u001b[0m \u001b[0mStringType\u001b[0m\u001b[0;34m(\u001b[0m\u001b[0;34m)\u001b[0m\u001b[0;34m,\u001b[0m \u001b[0mnullable\u001b[0m\u001b[0;34m=\u001b[0m\u001b[0;32mTrue\u001b[0m\u001b[0;34m)\u001b[0m\u001b[0;34m]\u001b[0m\u001b[0;34m)\u001b[0m\u001b[0;34m\u001b[0m\u001b[0;34m\u001b[0m\u001b[0m\n\u001b[0m",
      "\u001b[0;31mNameError\u001b[0m: name 'StructType' is not defined"
     ]
    }
   ],
   "source": [
    "partialSchema = StructType([StructField(\" date\", StringType(), nullable=True)])      "
   ]
  },
  {
   "cell_type": "code",
   "execution_count": 48,
   "id": "537ec7f8",
   "metadata": {},
   "outputs": [],
   "source": [
    "from pyspark.sql.functions import explode,split"
   ]
  },
  {
   "cell_type": "code",
   "execution_count": 54,
   "id": "32499715",
   "metadata": {},
   "outputs": [],
   "source": [
    "from pyspark.sql.functions import *"
   ]
  },
  {
   "cell_type": "code",
   "execution_count": 58,
   "id": "75d052ba",
   "metadata": {},
   "outputs": [
    {
     "name": "stderr",
     "output_type": "stream",
     "text": [
      "                                                                                \r"
     ]
    },
    {
     "name": "stdout",
     "output_type": "stream",
     "text": [
      "+--------------------+-----------------+\n",
      "|          categories|count(categories)|\n",
      "+--------------------+-----------------+\n",
      "|    Furniture Stores|             1331|\n",
      "|    Historical Tours|               26|\n",
      "|              Korean|              375|\n",
      "|      Dermatologists|               80|\n",
      "| Beach Equipment ...|                9|\n",
      "| Boudoir Photography|               34|\n",
      "|      Paddleboarding|               20|\n",
      "|    Hot Air Balloons|                5|\n",
      "| Mobile Home Dealers|                2|\n",
      "|               Roman|                1|\n",
      "|               Tires|             1935|\n",
      "|  Car Window Tinting|              198|\n",
      "|    Historical Tours|              110|\n",
      "|       Live/Raw Food|               73|\n",
      "| Commercial Truck...|               54|\n",
      "|             Beaches|               34|\n",
      "|              Fondue|                7|\n",
      "|         Boat Repair|               10|\n",
      "|       Skating Rinks|               27|\n",
      "|       Data Recovery|               16|\n",
      "+--------------------+-----------------+\n",
      "only showing top 20 rows\n",
      "\n"
     ]
    }
   ],
   "source": [
    "from pyspark.sql.functions import col,count\n",
    "df2.withColumn(\"categories\",explode(split(\"categories\",',')))\n",
    "df2.groupBy(\"categories\").agg(count(\"categories\")).show()"
   ]
  },
  {
   "cell_type": "code",
   "execution_count": 146,
   "id": "a3c2885a",
   "metadata": {},
   "outputs": [],
   "source": [
    "df2.createOrReplaceTempView(\"df2\")\n"
   ]
  },
  {
   "cell_type": "code",
   "execution_count": 147,
   "id": "2f47ce18",
   "metadata": {},
   "outputs": [
    {
     "name": "stderr",
     "output_type": "stream",
     "text": [
      "[Stage 96:==========================================================(8 + 0) / 8]\r"
     ]
    },
    {
     "name": "stdout",
     "output_type": "stream",
     "text": [
      "+--------------------+------------+-----+-----------+\n",
      "|                name|review_count|stars| categories|\n",
      "+--------------------+------------+-----+-----------+\n",
      "|         Cafe Soleil|         468|  5.0|Restaurants|\n",
      "|       Big Al's Deli|         390|  5.0|Restaurants|\n",
      "|  Barista Del Barrio|         357|  5.0|Restaurants|\n",
      "|   Hole In One Donut|         214|  5.0|Restaurants|\n",
      "|Edessa Restaurant...|         198|  5.0|Restaurants|\n",
      "+--------------------+------------+-----+-----------+\n",
      "\n"
     ]
    },
    {
     "name": "stderr",
     "output_type": "stream",
     "text": [
      "                                                                                \r"
     ]
    }
   ],
   "source": [
    "spark.sql(\"select name,review_count,stars,categories from df2 where categories='Restaurants' and review_count>=10 order By stars desc,review_count desc limit 5\").show()"
   ]
  },
  {
   "cell_type": "code",
   "execution_count": 126,
   "id": "d96f59a6",
   "metadata": {},
   "outputs": [
    {
     "name": "stderr",
     "output_type": "stream",
     "text": [
      "[Stage 71:>                                                         (0 + 8) / 8]\r"
     ]
    },
    {
     "name": "stdout",
     "output_type": "stream",
     "text": [
      "+--------------------+--------------------+------------+-----+-------------+\n",
      "|         business_id|                name|review_count|stars|   categories|\n",
      "+--------------------+--------------------+------------+-----+-------------+\n",
      "|WNjrsnJVPPnv_FtHH...|Frontier Communic...|         397|  1.0|Home Services|\n",
      "|7BQObhEOYhw5HUcmp...|    Horizon Services|         338|  2.0|Home Services|\n",
      "|_asl6r3sQF9XSo0CZ...|  American Arborists|         206|  5.0|Home Services|\n",
      "|aqdoynddLcBTSmI7u...| Miles: The Auto Spa|         191|  2.5|Home Services|\n",
      "|mZlz6wq17Vl0wEokd...|Banko Overhead Doors|         190|  4.5|Home Services|\n",
      "+--------------------+--------------------+------------+-----+-------------+\n",
      "\n"
     ]
    },
    {
     "name": "stderr",
     "output_type": "stream",
     "text": [
      "                                                                                \r"
     ]
    }
   ],
   "source": [
    "spark.sql(\"select business_id,name,review_count,stars,categories from df2 where categories='Home Services' order by review_count desc limit 5\").show()"
   ]
  },
  {
   "cell_type": "code",
   "execution_count": null,
   "id": "0d53e249",
   "metadata": {},
   "outputs": [],
   "source": []
  },
  {
   "cell_type": "code",
   "execution_count": 139,
   "id": "f22b9f7b",
   "metadata": {},
   "outputs": [
    {
     "name": "stderr",
     "output_type": "stream",
     "text": [
      "[Stage 89:>                                                         (0 + 1) / 1]\r"
     ]
    },
    {
     "name": "stdout",
     "output_type": "stream",
     "text": [
      "+-------------+----------+\n",
      "|         city|max(stars)|\n",
      "+-------------+----------+\n",
      "|Virginia City|       5.0|\n",
      "+-------------+----------+\n",
      "\n"
     ]
    },
    {
     "name": "stderr",
     "output_type": "stream",
     "text": [
      "                                                                                \r"
     ]
    }
   ],
   "source": [
    "spark.sql(\"select city,max(stars) from df2 where categories LIKE 'Nightlife%' group by city order by 2 desc limit 1\").show()"
   ]
  },
  {
   "cell_type": "code",
   "execution_count": 150,
   "id": "ad166438",
   "metadata": {},
   "outputs": [],
   "source": [
    "df.createOrReplaceTempView(\"df\")\n",
    "df1.createOrReplaceTempView(\"df1\")\n",
    "df2.createOrReplaceTempView(\"df2\")\n"
   ]
  },
  {
   "cell_type": "code",
   "execution_count": 151,
   "id": "9b6d177d",
   "metadata": {},
   "outputs": [
    {
     "name": "stderr",
     "output_type": "stream",
     "text": [
      "                                                                                \r"
     ]
    },
    {
     "name": "stdout",
     "output_type": "stream",
     "text": [
      "+--------------------+--------------------+--------------------+------------+\n",
      "|             user_id|                name|          categories|review_count|\n",
      "+--------------------+--------------------+--------------------+------------+\n",
      "|mh_-eMZ6K5RLWhZyI...|Turning Point of ...|          Sandwiches|         169|\n",
      "|mh_-eMZ6K5RLWhZyI...|Turning Point of ...|        Coffee & Tea|         169|\n",
      "|mh_-eMZ6K5RLWhZyI...|Turning Point of ...|      American (New)|         169|\n",
      "|mh_-eMZ6K5RLWhZyI...|Turning Point of ...| Juice Bars & Smo...|         169|\n",
      "|mh_-eMZ6K5RLWhZyI...|Turning Point of ...|                Food|         169|\n",
      "|mh_-eMZ6K5RLWhZyI...|Turning Point of ...|  Breakfast & Brunch|         169|\n",
      "|mh_-eMZ6K5RLWhZyI...|Turning Point of ...|         Restaurants|         169|\n",
      "|OyoGAe7OKpv6SyGZT...|Body Cycle Spinni...| Fitness & Instru...|         144|\n",
      "|OyoGAe7OKpv6SyGZT...|Body Cycle Spinni...|                Gyms|         144|\n",
      "|OyoGAe7OKpv6SyGZT...|Body Cycle Spinni...|            Trainers|         144|\n",
      "|OyoGAe7OKpv6SyGZT...|Body Cycle Spinni...|     Cycling Classes|         144|\n",
      "|OyoGAe7OKpv6SyGZT...|Body Cycle Spinni...|         Active Life|         144|\n",
      "|8g_iMtfSiwikVnbP2...|   Kettle Restaurant|  Breakfast & Brunch|          47|\n",
      "|8g_iMtfSiwikVnbP2...|   Kettle Restaurant|         Restaurants|          47|\n",
      "|_7bHUi9Uuf5__HHc_...|               Zaika|              Indian|         181|\n",
      "|_7bHUi9Uuf5__HHc_...|               Zaika|         Restaurants|         181|\n",
      "|_7bHUi9Uuf5__HHc_...|               Zaika|           Pakistani|         181|\n",
      "|_7bHUi9Uuf5__HHc_...|               Zaika|               Halal|         181|\n",
      "|bcjbaE6dDog4jkNY9...|                Melt|           Nightlife|          32|\n",
      "|bcjbaE6dDog4jkNY9...|                Melt| American (Tradit...|          32|\n",
      "+--------------------+--------------------+--------------------+------------+\n",
      "only showing top 20 rows\n",
      "\n"
     ]
    }
   ],
   "source": [
    "df3=spark.sql(\"select df1.user_id, df2.name, df2.categories ,df2.review_count from df1 inner join df2 on df1.business_id=df2.business_id\")\n",
    "df3.show()\n"
   ]
  },
  {
   "cell_type": "code",
   "execution_count": 152,
   "id": "071422b3",
   "metadata": {},
   "outputs": [
    {
     "name": "stderr",
     "output_type": "stream",
     "text": [
      "                                                                                \r"
     ]
    },
    {
     "name": "stdout",
     "output_type": "stream",
     "text": [
      "+--------------------+--------------------+--------------------+------------+\n",
      "|             user_id|                name|          categories|review_count|\n",
      "+--------------------+--------------------+--------------------+------------+\n",
      "|mh_-eMZ6K5RLWhZyI...|Turning Point of ...|          Sandwiches|         169|\n",
      "|mh_-eMZ6K5RLWhZyI...|Turning Point of ...|        Coffee & Tea|         169|\n",
      "|mh_-eMZ6K5RLWhZyI...|Turning Point of ...|      American (New)|         169|\n",
      "|mh_-eMZ6K5RLWhZyI...|Turning Point of ...| Juice Bars & Smo...|         169|\n",
      "|mh_-eMZ6K5RLWhZyI...|Turning Point of ...|                Food|         169|\n",
      "|mh_-eMZ6K5RLWhZyI...|Turning Point of ...|  Breakfast & Brunch|         169|\n",
      "|mh_-eMZ6K5RLWhZyI...|Turning Point of ...|         Restaurants|         169|\n",
      "|OyoGAe7OKpv6SyGZT...|Body Cycle Spinni...| Fitness & Instru...|         144|\n",
      "|OyoGAe7OKpv6SyGZT...|Body Cycle Spinni...|                Gyms|         144|\n",
      "|OyoGAe7OKpv6SyGZT...|Body Cycle Spinni...|            Trainers|         144|\n",
      "|OyoGAe7OKpv6SyGZT...|Body Cycle Spinni...|     Cycling Classes|         144|\n",
      "|OyoGAe7OKpv6SyGZT...|Body Cycle Spinni...|         Active Life|         144|\n",
      "|8g_iMtfSiwikVnbP2...|   Kettle Restaurant|  Breakfast & Brunch|          47|\n",
      "|8g_iMtfSiwikVnbP2...|   Kettle Restaurant|         Restaurants|          47|\n",
      "|_7bHUi9Uuf5__HHc_...|               Zaika|              Indian|         181|\n",
      "|_7bHUi9Uuf5__HHc_...|               Zaika|         Restaurants|         181|\n",
      "|_7bHUi9Uuf5__HHc_...|               Zaika|           Pakistani|         181|\n",
      "|_7bHUi9Uuf5__HHc_...|               Zaika|               Halal|         181|\n",
      "|bcjbaE6dDog4jkNY9...|                Melt|           Nightlife|          32|\n",
      "|bcjbaE6dDog4jkNY9...|                Melt| American (Tradit...|          32|\n",
      "+--------------------+--------------------+--------------------+------------+\n",
      "only showing top 20 rows\n",
      "\n"
     ]
    }
   ],
   "source": [
    "df3.write.option(\"header\",\"true\").csv(\"final_join_file.csv\")\n",
    "df3.show()"
   ]
  },
  {
   "cell_type": "code",
   "execution_count": null,
   "id": "6fb25432",
   "metadata": {},
   "outputs": [],
   "source": []
  }
 ],
 "metadata": {
  "kernelspec": {
   "display_name": "Python 3 (ipykernel)",
   "language": "python",
   "name": "python3"
  },
  "language_info": {
   "codemirror_mode": {
    "name": "ipython",
    "version": 3
   },
   "file_extension": ".py",
   "mimetype": "text/x-python",
   "name": "python",
   "nbconvert_exporter": "python",
   "pygments_lexer": "ipython3",
   "version": "3.9.7"
  }
 },
 "nbformat": 4,
 "nbformat_minor": 5
}
